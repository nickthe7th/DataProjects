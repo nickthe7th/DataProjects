{
 "cells": [
  {
   "cell_type": "code",
   "execution_count": null,
   "metadata": {},
   "outputs": [],
   "source": [
    "#import libraries\n",
    "from urllib.request import urlopen\n",
    "import json\n",
    "import pandas as pd\n",
    "import seaborn as sns\n",
    "import matplotlib.pyplot as plt\n",
    "import datetime\n",
    "import numpy as np\n",
    "from ipywidgets import interact\n",
    "from matplotlib import gridspec\n",
    "from PIL import Image\n",
    "import matplotlib.image as image\n",
    "from sklearn.preprocessing import MinMaxScaler"
   ]
  },
  {
   "cell_type": "code",
   "execution_count": null,
   "metadata": {},
   "outputs": [],
   "source": [
    "#use openf1 api to get datasets from most recent session\n",
    "response = urlopen('https://api.openf1.org/v1/car_data?driver_number=44&session_key=latest')\n",
    "data = json.loads(response.read().decode('utf-8'))\n",
    "HamiltonDf = pd.DataFrame(data)\n",
    "\n",
    "response = urlopen('https://api.openf1.org/v1/car_data?driver_number=16&session_key=latest')\n",
    "data = json.loads(response.read().decode('utf-8'))\n",
    "LeClercDf = pd.DataFrame(data)\n",
    "\n",
    "response = urlopen('https://api.openf1.org/v1/sessions?session_key=latest')\n",
    "data = json.loads(response.read().decode('utf-8'))\n",
    "RaceData = pd.DataFrame(data)\n",
    "\n",
    "response = urlopen('https://api.openf1.org/v1/location?driver_number=44&session_key=latest')\n",
    "data = json.loads(response.read().decode('utf-8'))\n",
    "HamiltonLOC = pd.DataFrame(data)\n",
    "\n",
    "response = urlopen('https://api.openf1.org/v1/location?driver_number=16&session_key=latest')\n",
    "data = json.loads(response.read().decode('utf-8'))\n",
    "LeClercLOC = pd.DataFrame(data)"
   ]
  },
  {
   "cell_type": "code",
   "execution_count": null,
   "metadata": {},
   "outputs": [],
   "source": [
    "#perform simple transformations to make dataset more usable\n",
    "HamiltonDf['date'] = pd.to_datetime(HamiltonDf['date'], format='mixed')\n",
    "LeClercDf['date'] = pd.to_datetime(LeClercDf['date'])\n",
    "HamiltonLOC['date'] = pd.to_datetime(HamiltonLOC['date'], format='mixed')\n",
    "LeClercLOC['date'] = pd.to_datetime(LeClercLOC['date'])"
   ]
  },
  {
   "cell_type": "code",
   "execution_count": null,
   "metadata": {},
   "outputs": [
    {
     "data": {
      "application/vnd.jupyter.widget-view+json": {
       "model_id": "de8ac4a8d19748d2b0b52641b4bb6767",
       "version_major": 2,
       "version_minor": 0
      },
      "text/plain": [
       "interactive(children=(IntSlider(value=16725, description='mid', max=33201, min=250), Dropdown(description='sta…"
      ]
     },
     "metadata": {},
     "output_type": "display_data"
    }
   ],
   "source": [
    "#Make interactive plot of data of two ferrari drivers\n",
    "@interact(mid=(HamiltonDf.index.min() + 250,HamiltonDf.index.max() - 250),stat= HamiltonDf.select_dtypes(include='number').drop(labels=['meeting_key','session_key','driver_number','drs'], axis=1).columns, time=(-250,250))\n",
    "def ThrottlePlotter(mid=(HamiltonDf.index.max()//2), stat = 'speed', time=0):\n",
    "    fig, (ax1,ax2) = plt.subplots(nrows=1, ncols=2, figsize=(20,5), width_ratios=[2,1])\n",
    "\n",
    "    sns.lineplot(HamiltonDf[(HamiltonDf.index >= (mid-250)) & (HamiltonDf.index <= (mid+250))], x='date', y=stat, color='r' ,ax=ax1, label='Hamilton')\n",
    "    sns.lineplot(LeClercDf[(LeClercDf.index >= (mid-250)) & (LeClercDf.index <= (mid+250))], x='date', y=stat, color='b' ,ax=ax1, label='LeClerc')\n",
    "\n",
    "    ymin, ymax = ax1.get_ylim()\n",
    "    ax1.vlines(x=HamiltonDf['date'].iloc[mid+time], ymin=ymin, ymax=ymax, color='#000000', linestyles='dashed')\n",
    "\n",
    "    ax1.plot(HamiltonDf['date'].iloc[mid+time], HamiltonDf[stat].iloc[mid+time], 'ro')\n",
    "    ax1.annotate(text= str(HamiltonDf[stat].iloc[mid+time]), xy= (HamiltonDf['date'].iloc[mid+time], HamiltonDf[stat].iloc[mid+time]), c='r', bbox = {'ec' :'#000000', 'fc' : '#FFFFFF'}, xytext=(10,20), textcoords='offset points')\n",
    "\n",
    "    ax1.plot(LeClercDf['date'].iloc[mid+time], LeClercDf[stat].iloc[mid+time], 'bo')\n",
    "    ax1.annotate(text= str(LeClercDf[stat].iloc[mid+time]), xy= (LeClercDf['date'].iloc[mid+time], LeClercDf[stat].iloc[mid+time]), c='b', bbox = {'ec' :'#000000', 'fc' : '#FFFFFF'}, xytext=(10,-20), textcoords='offset points')\n",
    "    \n",
    "\n",
    "    ax1.set_title(f'{RaceData['location'].iloc[0]} {RaceData['country_name'].iloc[0]}: {RaceData['session_name'].iloc[0]}')\n",
    "    ax1.set_xlabel('Time')\n",
    "    ax1.legend()\n",
    "\n",
    "    sns.scatterplot(HamiltonLOC, x='x', y='y', ax=ax2, c='#000000', edgecolors='none')\n",
    "\n",
    "    hamLoc = HamiltonLOC[['x','y']].iloc[(HamiltonLOC['date'] - HamiltonDf['date'].iloc[mid+time]).abs().idxmin()]\n",
    "    ax2.plot(hamLoc['x'],hamLoc['y'],'ro', markersize=10)\n",
    "\n",
    "    lecLoc = LeClercLOC[['x','y']].iloc[(LeClercLOC['date'] - LeClercDf['date'].iloc[mid+time]).abs().idxmin()]\n",
    "    ax2.plot(lecLoc['x'],lecLoc['y'],'bo', markersize=10)\n",
    "\n",
    "    ax2.get_xaxis().set_visible(False)\n",
    "    ax2.get_yaxis().set_visible(False)"
   ]
  }
 ],
 "metadata": {
  "kernelspec": {
   "display_name": "datascience",
   "language": "python",
   "name": "python3"
  },
  "language_info": {
   "codemirror_mode": {
    "name": "ipython",
    "version": 3
   },
   "file_extension": ".py",
   "mimetype": "text/x-python",
   "name": "python",
   "nbconvert_exporter": "python",
   "pygments_lexer": "ipython3",
   "version": "3.13.1"
  }
 },
 "nbformat": 4,
 "nbformat_minor": 2
}
