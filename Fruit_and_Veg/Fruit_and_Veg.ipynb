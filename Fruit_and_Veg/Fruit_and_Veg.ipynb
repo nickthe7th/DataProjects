{
 "cells": [
  {
   "cell_type": "markdown",
   "metadata": {},
   "source": [
    "# Fruit and Veggie price analysis\n",
    "\n",
    "## Data Source\n",
    "The data comes from the USDA Economic Eesearch Service estimates of average costs of fruits and vegetables. The datasets can be found on the [USDA website](https://www.ers.usda.gov/data-products/fruit-and-vegetable-prices)."
   ]
  },
  {
   "cell_type": "code",
   "execution_count": 1,
   "metadata": {},
   "outputs": [],
   "source": [
    "import numpy as np\n",
    "import pandas as pd\n",
    "import matplotlib as plt"
   ]
  },
  {
   "cell_type": "markdown",
   "metadata": {},
   "source": [
    "## Importing and Exploring the Datasets\n",
    "\n",
    "First we will import the two datasets we will be working with. The USDA stores the information for fruit and vegetables seperatley, so we read both datasets into pandas dataframes here."
   ]
  },
  {
   "cell_type": "code",
   "execution_count": 2,
   "metadata": {},
   "outputs": [],
   "source": [
    "justFruit = pd.read_csv('Fruit-Prices-2022.csv')\n",
    "justVeggies = pd.read_csv('Vegetable-Prices-2022.csv')"
   ]
  },
  {
   "cell_type": "markdown",
   "metadata": {},
   "source": [
    "Then we move to initial exploration into our datasets."
   ]
  },
  {
   "cell_type": "code",
   "execution_count": 3,
   "metadata": {},
   "outputs": [
    {
     "data": {
      "text/html": [
       "<div>\n",
       "<style scoped>\n",
       "    .dataframe tbody tr th:only-of-type {\n",
       "        vertical-align: middle;\n",
       "    }\n",
       "\n",
       "    .dataframe tbody tr th {\n",
       "        vertical-align: top;\n",
       "    }\n",
       "\n",
       "    .dataframe thead th {\n",
       "        text-align: right;\n",
       "    }\n",
       "</style>\n",
       "<table border=\"1\" class=\"dataframe\">\n",
       "  <thead>\n",
       "    <tr style=\"text-align: right;\">\n",
       "      <th></th>\n",
       "      <th>Fruit</th>\n",
       "      <th>Form</th>\n",
       "      <th>RetailPrice</th>\n",
       "      <th>RetailPriceUnit</th>\n",
       "      <th>Yield</th>\n",
       "      <th>CupEquivalentSize</th>\n",
       "      <th>CupEquivalentUnit</th>\n",
       "      <th>CupEquivalentPrice</th>\n",
       "    </tr>\n",
       "  </thead>\n",
       "  <tbody>\n",
       "    <tr>\n",
       "      <th>0</th>\n",
       "      <td>Apples</td>\n",
       "      <td>Fresh</td>\n",
       "      <td>1.8541</td>\n",
       "      <td>per pound</td>\n",
       "      <td>0.90</td>\n",
       "      <td>0.2425</td>\n",
       "      <td>pounds</td>\n",
       "      <td>0.4996</td>\n",
       "    </tr>\n",
       "    <tr>\n",
       "      <th>1</th>\n",
       "      <td>Apples, applesauce</td>\n",
       "      <td>Canned</td>\n",
       "      <td>1.1705</td>\n",
       "      <td>per pound</td>\n",
       "      <td>1.00</td>\n",
       "      <td>0.5401</td>\n",
       "      <td>pounds</td>\n",
       "      <td>0.6323</td>\n",
       "    </tr>\n",
       "    <tr>\n",
       "      <th>2</th>\n",
       "      <td>Apples, ready-to-drink</td>\n",
       "      <td>Juice</td>\n",
       "      <td>0.8699</td>\n",
       "      <td>per pint</td>\n",
       "      <td>1.00</td>\n",
       "      <td>8.0000</td>\n",
       "      <td>fluid ounces</td>\n",
       "      <td>0.4349</td>\n",
       "    </tr>\n",
       "    <tr>\n",
       "      <th>3</th>\n",
       "      <td>Apples, frozen concentrate</td>\n",
       "      <td>Juice</td>\n",
       "      <td>0.6086</td>\n",
       "      <td>per pint</td>\n",
       "      <td>1.00</td>\n",
       "      <td>8.0000</td>\n",
       "      <td>fluid ounces</td>\n",
       "      <td>0.3043</td>\n",
       "    </tr>\n",
       "    <tr>\n",
       "      <th>4</th>\n",
       "      <td>Apricots</td>\n",
       "      <td>Fresh</td>\n",
       "      <td>3.6162</td>\n",
       "      <td>per pound</td>\n",
       "      <td>0.93</td>\n",
       "      <td>0.3638</td>\n",
       "      <td>pounds</td>\n",
       "      <td>1.4145</td>\n",
       "    </tr>\n",
       "  </tbody>\n",
       "</table>\n",
       "</div>"
      ],
      "text/plain": [
       "                        Fruit    Form  RetailPrice RetailPriceUnit  Yield  \\\n",
       "0                      Apples   Fresh       1.8541       per pound   0.90   \n",
       "1          Apples, applesauce  Canned       1.1705       per pound   1.00   \n",
       "2      Apples, ready-to-drink   Juice       0.8699        per pint   1.00   \n",
       "3  Apples, frozen concentrate   Juice       0.6086        per pint   1.00   \n",
       "4                    Apricots   Fresh       3.6162       per pound   0.93   \n",
       "\n",
       "   CupEquivalentSize CupEquivalentUnit  CupEquivalentPrice  \n",
       "0             0.2425            pounds              0.4996  \n",
       "1             0.5401            pounds              0.6323  \n",
       "2             8.0000      fluid ounces              0.4349  \n",
       "3             8.0000      fluid ounces              0.3043  \n",
       "4             0.3638            pounds              1.4145  "
      ]
     },
     "execution_count": 3,
     "metadata": {},
     "output_type": "execute_result"
    }
   ],
   "source": [
    "justFruit.head()"
   ]
  },
  {
   "cell_type": "code",
   "execution_count": 4,
   "metadata": {},
   "outputs": [
    {
     "data": {
      "text/html": [
       "<div>\n",
       "<style scoped>\n",
       "    .dataframe tbody tr th:only-of-type {\n",
       "        vertical-align: middle;\n",
       "    }\n",
       "\n",
       "    .dataframe tbody tr th {\n",
       "        vertical-align: top;\n",
       "    }\n",
       "\n",
       "    .dataframe thead th {\n",
       "        text-align: right;\n",
       "    }\n",
       "</style>\n",
       "<table border=\"1\" class=\"dataframe\">\n",
       "  <thead>\n",
       "    <tr style=\"text-align: right;\">\n",
       "      <th></th>\n",
       "      <th>Vegetable</th>\n",
       "      <th>Form</th>\n",
       "      <th>RetailPrice</th>\n",
       "      <th>RetailPriceUnit</th>\n",
       "      <th>Yield</th>\n",
       "      <th>CupEquivalentSize</th>\n",
       "      <th>CupEquivalentUnit</th>\n",
       "      <th>CupEquivalentPrice</th>\n",
       "    </tr>\n",
       "  </thead>\n",
       "  <tbody>\n",
       "    <tr>\n",
       "      <th>0</th>\n",
       "      <td>Acorn squash</td>\n",
       "      <td>Fresh</td>\n",
       "      <td>1.2136</td>\n",
       "      <td>per pound</td>\n",
       "      <td>0.4586</td>\n",
       "      <td>0.4519</td>\n",
       "      <td>pounds</td>\n",
       "      <td>1.1961</td>\n",
       "    </tr>\n",
       "    <tr>\n",
       "      <th>1</th>\n",
       "      <td>Artichoke</td>\n",
       "      <td>Fresh</td>\n",
       "      <td>2.4703</td>\n",
       "      <td>per pound</td>\n",
       "      <td>0.3750</td>\n",
       "      <td>0.3858</td>\n",
       "      <td>pounds</td>\n",
       "      <td>2.5415</td>\n",
       "    </tr>\n",
       "    <tr>\n",
       "      <th>2</th>\n",
       "      <td>Artichoke</td>\n",
       "      <td>Canned</td>\n",
       "      <td>3.4498</td>\n",
       "      <td>per pound</td>\n",
       "      <td>0.6500</td>\n",
       "      <td>0.3858</td>\n",
       "      <td>pounds</td>\n",
       "      <td>2.0476</td>\n",
       "    </tr>\n",
       "    <tr>\n",
       "      <th>3</th>\n",
       "      <td>Asparagus</td>\n",
       "      <td>Fresh</td>\n",
       "      <td>2.9531</td>\n",
       "      <td>per pound</td>\n",
       "      <td>0.4938</td>\n",
       "      <td>0.3968</td>\n",
       "      <td>pounds</td>\n",
       "      <td>2.3731</td>\n",
       "    </tr>\n",
       "    <tr>\n",
       "      <th>4</th>\n",
       "      <td>Asparagus</td>\n",
       "      <td>Canned</td>\n",
       "      <td>3.4328</td>\n",
       "      <td>per pound</td>\n",
       "      <td>0.6500</td>\n",
       "      <td>0.3968</td>\n",
       "      <td>pounds</td>\n",
       "      <td>2.0958</td>\n",
       "    </tr>\n",
       "  </tbody>\n",
       "</table>\n",
       "</div>"
      ],
      "text/plain": [
       "      Vegetable    Form  RetailPrice RetailPriceUnit   Yield  \\\n",
       "0  Acorn squash   Fresh       1.2136       per pound  0.4586   \n",
       "1     Artichoke   Fresh       2.4703       per pound  0.3750   \n",
       "2     Artichoke  Canned       3.4498       per pound  0.6500   \n",
       "3     Asparagus   Fresh       2.9531       per pound  0.4938   \n",
       "4     Asparagus  Canned       3.4328       per pound  0.6500   \n",
       "\n",
       "   CupEquivalentSize CupEquivalentUnit  CupEquivalentPrice  \n",
       "0             0.4519            pounds              1.1961  \n",
       "1             0.3858            pounds              2.5415  \n",
       "2             0.3858            pounds              2.0476  \n",
       "3             0.3968            pounds              2.3731  \n",
       "4             0.3968            pounds              2.0958  "
      ]
     },
     "execution_count": 4,
     "metadata": {},
     "output_type": "execute_result"
    }
   ],
   "source": [
    "justVeggies.head()"
   ]
  },
  {
   "cell_type": "markdown",
   "metadata": {},
   "source": [
    "We can see our datasets for both fruits and vegetables contain the same information for each entry, which will make working with and comparing the two datsets easy for us. We have the name, form, price, and price unit for each item. Yield means the proportion of the item that is edible, for example: apples have an inedible core and so the yield is less than 1 (0.9), whereas there is no part of applesauce that is inedible so it is assigned a yield of 1. CupEquivalentSize and CupEquivalentUnit together tell us how much of a food item it takes to make a cup, and the CupEquivalentPrice is the price for that cup. This is especially useful because the retail price is determined by different things for each item (pounds, pints, etc.), so a cup equivalent price gives us a standard unit to compare between items.\n",
    "\n",
    "## Data Shaping\n",
    "\n",
    "Since our two tables contain all the same information it will be useful to combine them into a larger dataframe. That being said, it is stil useful to know if an item is classified as a fruit or a vegetable, so we add this column here as well as rename the fruit column in preperation for merging."
   ]
  },
  {
   "cell_type": "code",
   "execution_count": 5,
   "metadata": {},
   "outputs": [
    {
     "data": {
      "text/html": [
       "<div>\n",
       "<style scoped>\n",
       "    .dataframe tbody tr th:only-of-type {\n",
       "        vertical-align: middle;\n",
       "    }\n",
       "\n",
       "    .dataframe tbody tr th {\n",
       "        vertical-align: top;\n",
       "    }\n",
       "\n",
       "    .dataframe thead th {\n",
       "        text-align: right;\n",
       "    }\n",
       "</style>\n",
       "<table border=\"1\" class=\"dataframe\">\n",
       "  <thead>\n",
       "    <tr style=\"text-align: right;\">\n",
       "      <th></th>\n",
       "      <th>Name</th>\n",
       "      <th>Form</th>\n",
       "      <th>RetailPrice</th>\n",
       "      <th>RetailPriceUnit</th>\n",
       "      <th>Yield</th>\n",
       "      <th>CupEquivalentSize</th>\n",
       "      <th>CupEquivalentUnit</th>\n",
       "      <th>CupEquivalentPrice</th>\n",
       "      <th>Type</th>\n",
       "    </tr>\n",
       "  </thead>\n",
       "  <tbody>\n",
       "    <tr>\n",
       "      <th>0</th>\n",
       "      <td>Apples</td>\n",
       "      <td>Fresh</td>\n",
       "      <td>1.8541</td>\n",
       "      <td>per pound</td>\n",
       "      <td>0.90</td>\n",
       "      <td>0.2425</td>\n",
       "      <td>pounds</td>\n",
       "      <td>0.4996</td>\n",
       "      <td>Fruit</td>\n",
       "    </tr>\n",
       "    <tr>\n",
       "      <th>1</th>\n",
       "      <td>Apples, applesauce</td>\n",
       "      <td>Canned</td>\n",
       "      <td>1.1705</td>\n",
       "      <td>per pound</td>\n",
       "      <td>1.00</td>\n",
       "      <td>0.5401</td>\n",
       "      <td>pounds</td>\n",
       "      <td>0.6323</td>\n",
       "      <td>Fruit</td>\n",
       "    </tr>\n",
       "    <tr>\n",
       "      <th>2</th>\n",
       "      <td>Apples, ready-to-drink</td>\n",
       "      <td>Juice</td>\n",
       "      <td>0.8699</td>\n",
       "      <td>per pint</td>\n",
       "      <td>1.00</td>\n",
       "      <td>8.0000</td>\n",
       "      <td>fluid ounces</td>\n",
       "      <td>0.4349</td>\n",
       "      <td>Fruit</td>\n",
       "    </tr>\n",
       "    <tr>\n",
       "      <th>3</th>\n",
       "      <td>Apples, frozen concentrate</td>\n",
       "      <td>Juice</td>\n",
       "      <td>0.6086</td>\n",
       "      <td>per pint</td>\n",
       "      <td>1.00</td>\n",
       "      <td>8.0000</td>\n",
       "      <td>fluid ounces</td>\n",
       "      <td>0.3043</td>\n",
       "      <td>Fruit</td>\n",
       "    </tr>\n",
       "    <tr>\n",
       "      <th>4</th>\n",
       "      <td>Apricots</td>\n",
       "      <td>Fresh</td>\n",
       "      <td>3.6162</td>\n",
       "      <td>per pound</td>\n",
       "      <td>0.93</td>\n",
       "      <td>0.3638</td>\n",
       "      <td>pounds</td>\n",
       "      <td>1.4145</td>\n",
       "      <td>Fruit</td>\n",
       "    </tr>\n",
       "  </tbody>\n",
       "</table>\n",
       "</div>"
      ],
      "text/plain": [
       "                         Name    Form  RetailPrice RetailPriceUnit  Yield  \\\n",
       "0                      Apples   Fresh       1.8541       per pound   0.90   \n",
       "1          Apples, applesauce  Canned       1.1705       per pound   1.00   \n",
       "2      Apples, ready-to-drink   Juice       0.8699        per pint   1.00   \n",
       "3  Apples, frozen concentrate   Juice       0.6086        per pint   1.00   \n",
       "4                    Apricots   Fresh       3.6162       per pound   0.93   \n",
       "\n",
       "   CupEquivalentSize CupEquivalentUnit  CupEquivalentPrice   Type  \n",
       "0             0.2425            pounds              0.4996  Fruit  \n",
       "1             0.5401            pounds              0.6323  Fruit  \n",
       "2             8.0000      fluid ounces              0.4349  Fruit  \n",
       "3             8.0000      fluid ounces              0.3043  Fruit  \n",
       "4             0.3638            pounds              1.4145  Fruit  "
      ]
     },
     "execution_count": 5,
     "metadata": {},
     "output_type": "execute_result"
    }
   ],
   "source": [
    "renamedFruit = justFruit.rename(columns={'Fruit':'Name'}, inplace=False)\n",
    "renamedFruit['Type'] = 'Fruit'\n",
    "renamedFruit.head()"
   ]
  },
  {
   "cell_type": "code",
   "execution_count": 6,
   "metadata": {},
   "outputs": [
    {
     "data": {
      "text/html": [
       "<div>\n",
       "<style scoped>\n",
       "    .dataframe tbody tr th:only-of-type {\n",
       "        vertical-align: middle;\n",
       "    }\n",
       "\n",
       "    .dataframe tbody tr th {\n",
       "        vertical-align: top;\n",
       "    }\n",
       "\n",
       "    .dataframe thead th {\n",
       "        text-align: right;\n",
       "    }\n",
       "</style>\n",
       "<table border=\"1\" class=\"dataframe\">\n",
       "  <thead>\n",
       "    <tr style=\"text-align: right;\">\n",
       "      <th></th>\n",
       "      <th>Name</th>\n",
       "      <th>Form</th>\n",
       "      <th>RetailPrice</th>\n",
       "      <th>RetailPriceUnit</th>\n",
       "      <th>Yield</th>\n",
       "      <th>CupEquivalentSize</th>\n",
       "      <th>CupEquivalentUnit</th>\n",
       "      <th>CupEquivalentPrice</th>\n",
       "      <th>Type</th>\n",
       "    </tr>\n",
       "  </thead>\n",
       "  <tbody>\n",
       "    <tr>\n",
       "      <th>0</th>\n",
       "      <td>Acorn squash</td>\n",
       "      <td>Fresh</td>\n",
       "      <td>1.2136</td>\n",
       "      <td>per pound</td>\n",
       "      <td>0.4586</td>\n",
       "      <td>0.4519</td>\n",
       "      <td>pounds</td>\n",
       "      <td>1.1961</td>\n",
       "      <td>Vegetable</td>\n",
       "    </tr>\n",
       "    <tr>\n",
       "      <th>1</th>\n",
       "      <td>Artichoke</td>\n",
       "      <td>Fresh</td>\n",
       "      <td>2.4703</td>\n",
       "      <td>per pound</td>\n",
       "      <td>0.3750</td>\n",
       "      <td>0.3858</td>\n",
       "      <td>pounds</td>\n",
       "      <td>2.5415</td>\n",
       "      <td>Vegetable</td>\n",
       "    </tr>\n",
       "    <tr>\n",
       "      <th>2</th>\n",
       "      <td>Artichoke</td>\n",
       "      <td>Canned</td>\n",
       "      <td>3.4498</td>\n",
       "      <td>per pound</td>\n",
       "      <td>0.6500</td>\n",
       "      <td>0.3858</td>\n",
       "      <td>pounds</td>\n",
       "      <td>2.0476</td>\n",
       "      <td>Vegetable</td>\n",
       "    </tr>\n",
       "    <tr>\n",
       "      <th>3</th>\n",
       "      <td>Asparagus</td>\n",
       "      <td>Fresh</td>\n",
       "      <td>2.9531</td>\n",
       "      <td>per pound</td>\n",
       "      <td>0.4938</td>\n",
       "      <td>0.3968</td>\n",
       "      <td>pounds</td>\n",
       "      <td>2.3731</td>\n",
       "      <td>Vegetable</td>\n",
       "    </tr>\n",
       "    <tr>\n",
       "      <th>4</th>\n",
       "      <td>Asparagus</td>\n",
       "      <td>Canned</td>\n",
       "      <td>3.4328</td>\n",
       "      <td>per pound</td>\n",
       "      <td>0.6500</td>\n",
       "      <td>0.3968</td>\n",
       "      <td>pounds</td>\n",
       "      <td>2.0958</td>\n",
       "      <td>Vegetable</td>\n",
       "    </tr>\n",
       "  </tbody>\n",
       "</table>\n",
       "</div>"
      ],
      "text/plain": [
       "           Name    Form  RetailPrice RetailPriceUnit   Yield  \\\n",
       "0  Acorn squash   Fresh       1.2136       per pound  0.4586   \n",
       "1     Artichoke   Fresh       2.4703       per pound  0.3750   \n",
       "2     Artichoke  Canned       3.4498       per pound  0.6500   \n",
       "3     Asparagus   Fresh       2.9531       per pound  0.4938   \n",
       "4     Asparagus  Canned       3.4328       per pound  0.6500   \n",
       "\n",
       "   CupEquivalentSize CupEquivalentUnit  CupEquivalentPrice       Type  \n",
       "0             0.4519            pounds              1.1961  Vegetable  \n",
       "1             0.3858            pounds              2.5415  Vegetable  \n",
       "2             0.3858            pounds              2.0476  Vegetable  \n",
       "3             0.3968            pounds              2.3731  Vegetable  \n",
       "4             0.3968            pounds              2.0958  Vegetable  "
      ]
     },
     "execution_count": 6,
     "metadata": {},
     "output_type": "execute_result"
    }
   ],
   "source": [
    "renamedVeggies = justVeggies.rename(columns={'Vegetable':'Name'}, inplace=False)\n",
    "renamedVeggies['Type'] = 'Vegetable'\n",
    "renamedVeggies.head()"
   ]
  },
  {
   "cell_type": "markdown",
   "metadata": {},
   "source": [
    "Now the data is prepared to merge into a larger dataframe."
   ]
  },
  {
   "cell_type": "code",
   "execution_count": 7,
   "metadata": {},
   "outputs": [
    {
     "data": {
      "text/html": [
       "<div>\n",
       "<style scoped>\n",
       "    .dataframe tbody tr th:only-of-type {\n",
       "        vertical-align: middle;\n",
       "    }\n",
       "\n",
       "    .dataframe tbody tr th {\n",
       "        vertical-align: top;\n",
       "    }\n",
       "\n",
       "    .dataframe thead th {\n",
       "        text-align: right;\n",
       "    }\n",
       "</style>\n",
       "<table border=\"1\" class=\"dataframe\">\n",
       "  <thead>\n",
       "    <tr style=\"text-align: right;\">\n",
       "      <th></th>\n",
       "      <th>Name</th>\n",
       "      <th>Form</th>\n",
       "      <th>RetailPrice</th>\n",
       "      <th>RetailPriceUnit</th>\n",
       "      <th>Yield</th>\n",
       "      <th>CupEquivalentSize</th>\n",
       "      <th>CupEquivalentUnit</th>\n",
       "      <th>CupEquivalentPrice</th>\n",
       "      <th>Type</th>\n",
       "    </tr>\n",
       "  </thead>\n",
       "  <tbody>\n",
       "    <tr>\n",
       "      <th>0</th>\n",
       "      <td>Acorn squash</td>\n",
       "      <td>Fresh</td>\n",
       "      <td>1.2136</td>\n",
       "      <td>per pound</td>\n",
       "      <td>0.4586</td>\n",
       "      <td>0.4519</td>\n",
       "      <td>pounds</td>\n",
       "      <td>1.1961</td>\n",
       "      <td>Vegetable</td>\n",
       "    </tr>\n",
       "    <tr>\n",
       "      <th>1</th>\n",
       "      <td>Apples</td>\n",
       "      <td>Fresh</td>\n",
       "      <td>1.8541</td>\n",
       "      <td>per pound</td>\n",
       "      <td>0.9000</td>\n",
       "      <td>0.2425</td>\n",
       "      <td>pounds</td>\n",
       "      <td>0.4996</td>\n",
       "      <td>Fruit</td>\n",
       "    </tr>\n",
       "    <tr>\n",
       "      <th>2</th>\n",
       "      <td>Apples, applesauce</td>\n",
       "      <td>Canned</td>\n",
       "      <td>1.1705</td>\n",
       "      <td>per pound</td>\n",
       "      <td>1.0000</td>\n",
       "      <td>0.5401</td>\n",
       "      <td>pounds</td>\n",
       "      <td>0.6323</td>\n",
       "      <td>Fruit</td>\n",
       "    </tr>\n",
       "    <tr>\n",
       "      <th>3</th>\n",
       "      <td>Apples, frozen concentrate</td>\n",
       "      <td>Juice</td>\n",
       "      <td>0.6086</td>\n",
       "      <td>per pint</td>\n",
       "      <td>1.0000</td>\n",
       "      <td>8.0000</td>\n",
       "      <td>fluid ounces</td>\n",
       "      <td>0.3043</td>\n",
       "      <td>Fruit</td>\n",
       "    </tr>\n",
       "    <tr>\n",
       "      <th>4</th>\n",
       "      <td>Apples, ready-to-drink</td>\n",
       "      <td>Juice</td>\n",
       "      <td>0.8699</td>\n",
       "      <td>per pint</td>\n",
       "      <td>1.0000</td>\n",
       "      <td>8.0000</td>\n",
       "      <td>fluid ounces</td>\n",
       "      <td>0.4349</td>\n",
       "      <td>Fruit</td>\n",
       "    </tr>\n",
       "  </tbody>\n",
       "</table>\n",
       "</div>"
      ],
      "text/plain": [
       "                         Name    Form  RetailPrice RetailPriceUnit   Yield  \\\n",
       "0                Acorn squash   Fresh       1.2136       per pound  0.4586   \n",
       "1                      Apples   Fresh       1.8541       per pound  0.9000   \n",
       "2          Apples, applesauce  Canned       1.1705       per pound  1.0000   \n",
       "3  Apples, frozen concentrate   Juice       0.6086        per pint  1.0000   \n",
       "4      Apples, ready-to-drink   Juice       0.8699        per pint  1.0000   \n",
       "\n",
       "   CupEquivalentSize CupEquivalentUnit  CupEquivalentPrice       Type  \n",
       "0             0.4519            pounds              1.1961  Vegetable  \n",
       "1             0.2425            pounds              0.4996      Fruit  \n",
       "2             0.5401            pounds              0.6323      Fruit  \n",
       "3             8.0000      fluid ounces              0.3043      Fruit  \n",
       "4             8.0000      fluid ounces              0.4349      Fruit  "
      ]
     },
     "execution_count": 7,
     "metadata": {},
     "output_type": "execute_result"
    }
   ],
   "source": [
    "allPriceData = pd.merge(renamedFruit,renamedVeggies, how='outer')\n",
    "allPriceData.head()"
   ]
  },
  {
   "cell_type": "markdown",
   "metadata": {},
   "source": [
    "## Basic Plots\n",
    "\n",
    "Now we can use some basic plots to get some ideas about what the data tells us.\n",
    "\n",
    "### Fruits vs. Vegetables"
   ]
  },
  {
   "cell_type": "code",
   "execution_count": 8,
   "metadata": {},
   "outputs": [
    {
     "data": {
      "text/plain": [
       "<Axes: xlabel='Type'>"
      ]
     },
     "execution_count": 8,
     "metadata": {},
     "output_type": "execute_result"
    },
    {
     "data": {
      "image/png": "[encoded data removed]",
      "text/plain": [
       "<Figure size 640x480 with 1 Axes>"
      ]
     },
     "metadata": {},
     "output_type": "display_data"
    }
   ],
   "source": [
    "bar1 = allPriceData.groupby(['Type'])['RetailPrice'].mean()\n",
    "bar1.plot.bar()"
   ]
  },
  {
   "cell_type": "markdown",
   "metadata": {},
   "source": [
    "### Representaion of Each Type"
   ]
  },
  {
   "cell_type": "code",
   "execution_count": 9,
   "metadata": {},
   "outputs": [
    {
     "data": {
      "text/plain": [
       "<Axes: xlabel='Form'>"
      ]
     },
     "execution_count": 9,
     "metadata": {},
     "output_type": "execute_result"
    },
    {
     "data": {
      "image/png": "[encoded data removed]",
      "text/plain": [
       "<Figure size 640x480 with 1 Axes>"
      ]
     },
     "metadata": {},
     "output_type": "display_data"
    }
   ],
   "source": [
    "allPriceData.groupby(['Form'])['Type'].count().plot.bar()"
   ]
  },
  {
   "cell_type": "markdown",
   "metadata": {},
   "source": [
    "### Retail Price by Type"
   ]
  },
  {
   "cell_type": "code",
   "execution_count": 10,
   "metadata": {},
   "outputs": [
    {
     "data": {
      "text/plain": [
       "Form\n",
       "Dried     4.428729\n",
       "Frozen    2.873968\n",
       "Fresh     2.350041\n",
       "Canned    1.840772\n",
       "Juice     1.199436\n",
       "Name: RetailPrice, dtype: float64"
      ]
     },
     "execution_count": 10,
     "metadata": {},
     "output_type": "execute_result"
    }
   ],
   "source": [
    "bar2 = allPriceData.groupby(['Form'])['RetailPrice'].mean()\n",
    "pd.Series.sort_values(bar2, ascending=False ,inplace=True)\n",
    "bar2"
   ]
  },
  {
   "cell_type": "markdown",
   "metadata": {},
   "source": [
    "### Cup Price by Type"
   ]
  },
  {
   "cell_type": "code",
   "execution_count": 11,
   "metadata": {},
   "outputs": [
    {
     "data": {
      "text/plain": [
       "<Axes: xlabel='Form'>"
      ]
     },
     "execution_count": 11,
     "metadata": {},
     "output_type": "execute_result"
    },
    {
     "data": {
      "image/png": "[encoded data removed]",
      "text/plain": [
       "<Figure size 640x480 with 1 Axes>"
      ]
     },
     "metadata": {},
     "output_type": "display_data"
    }
   ],
   "source": [
    "bar3 = allPriceData.groupby(['Form'])['CupEquivalentPrice'].mean()\n",
    "pd.Series.sort_values(bar3, ascending=False ,inplace=True)\n",
    "bar3.plot.bar()"
   ]
  },
  {
   "cell_type": "code",
   "execution_count": 12,
   "metadata": {},
   "outputs": [
    {
     "data": {
      "text/plain": [
       "Type       Form  \n",
       "Fruit      Canned    12\n",
       "           Dried      9\n",
       "           Fresh     24\n",
       "           Frozen     6\n",
       "           Juice     11\n",
       "Vegetable  Canned    24\n",
       "           Dried      8\n",
       "           Fresh     42\n",
       "           Frozen    19\n",
       "Name: Name, dtype: int64"
      ]
     },
     "execution_count": 12,
     "metadata": {},
     "output_type": "execute_result"
    }
   ],
   "source": [
    "allPriceData.groupby(['Type','Form'])['Name'].count()"
   ]
  },
  {
   "cell_type": "code",
   "execution_count": null,
   "metadata": {},
   "outputs": [],
   "source": []
  }
 ],
 "metadata": {
  "kernelspec": {
   "display_name": "base",
   "language": "python",
   "name": "python3"
  },
  "language_info": {
   "codemirror_mode": {
    "name": "ipython",
    "version": 3
   },
   "file_extension": ".py",
   "mimetype": "text/x-python",
   "name": "python",
   "nbconvert_exporter": "python",
   "pygments_lexer": "ipython3",
   "version": "3.12.2"
  }
 },
 "nbformat": 4,
 "nbformat_minor": 2
}
